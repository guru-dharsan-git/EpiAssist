{
 "cells": [
  {
   "cell_type": "code",
   "execution_count": 1,
   "id": "0d5af003",
   "metadata": {},
   "outputs": [],
   "source": [
    "from gurulearn import QAAgent\n",
    "import pandas as pd\n",
    "data= pd.read_csv(\"Train.csv\",encoding='utf-8-sig')\n",
    "agent = QAAgent(\n",
    "    data=data,\n",
    "    llm_model=\"llama3.2\",\n",
    "    page_content_fields=[\"Question Text\",\"Question Answer\",\"Reference Document\",\"Paragraph(s) Number\",\"Keywords\"],\n",
    "    system_prompt=\"\"\"# System Prompt for Public Health Surveillance RAG\n",
    "\n",
    "You are a public health surveillance expert. Answer questions about disease outbreak detection, laboratory confirmation methods, and epidemiological investigations based on the Technical Guidelines (TG) Booklets.\n",
    "\n",
    "## Instructions:\n",
    "- Provide accurate, detailed answers using professional medical terminology\n",
    "- Structure responses clearly with context and specific procedures\n",
    "- Include relevant safety considerations and timing requirements\n",
    "- Reference TG Booklet numbers and paragraphs when available\n",
    "- Focus on actionable information for public health practitioners\n",
    "\n",
    "## Your expertise covers:\n",
    "- Laboratory confirmation methods (serological tests, PCR, specimen collection)\n",
    "- Disease surveillance strategies (community-based, case definitions, reporting)\n",
    "- Outbreak investigation procedures (case investigation, register reviews)\n",
    "- Data documentation and management\n",
    "- Specimen handling (collection, storage, transport)\n",
    "\n",
    "## Response format:\n",
    "1. Direct answer to the question\n",
    "2. Relevant procedures and protocols\n",
    "3. Practical considerations\n",
    "4. How it fits into broader surveillance objectives\n",
    "\n",
    "Keep responses comprehensive but concise, emphasizing practical application for healthcare workers.\n",
    "\n",
    "\"\"\"\n",
    ")\n"
   ]
  },
  {
   "cell_type": "code",
   "execution_count": 2,
   "id": "f2461e64",
   "metadata": {},
   "outputs": [
    {
     "data": {
      "text/plain": [
       "\"## Laboratory Confirmation Methods and Disease Diagnosis Through Blood Glucose Measurements\\n\\nThe primary laboratory confirmation method for Chikungunya infection involves serological tests (such as IgM and IgG enzyme-linked immunosorbent assay [ELISA]) and polymerase chain reaction (PCR) on clinical specimens, such as serum or blood. These methods aim to detect the presence of antibodies against the Chikungunya virus or viral RNA in the patient's sample.\\n\\nIn contrast, diabetes diagnosis primarily involves measuring blood glucose levels using various techniques, including:\\n\\n- HbA1c test: Assesses average blood glucose control over the preceding 2–3 months by examining the percentage of hemoglobin that has been glycated.\\n- Fasting plasma glucose (FPG) and 2-hour postprandial plasma glucose tests during an oral glucose tolerance test (OGTT): These measures assess the body's ability to regulate blood sugar levels after consuming a meal.\\n\\nTG Booklet 6, paragraph 166 clarifies that for diabetes diagnosis, blood glucose measurements are utilized.\""
      ]
     },
     "execution_count": 2,
     "metadata": {},
     "output_type": "execute_result"
    }
   ],
   "source": [
    "agent.query(\"What are the laboratory confirmation methods for Chikungunya and diabetes, and which diseases are diagnosed through blood glucose measurements?\")"
   ]
  },
  {
   "cell_type": "code",
   "execution_count": null,
   "id": "dbbbe8f4",
   "metadata": {},
   "outputs": [],
   "source": []
  }
 ],
 "metadata": {
  "kernelspec": {
   "display_name": "Python 3",
   "language": "python",
   "name": "python3"
  },
  "language_info": {
   "codemirror_mode": {
    "name": "ipython",
    "version": 3
   },
   "file_extension": ".py",
   "mimetype": "text/x-python",
   "name": "python",
   "nbconvert_exporter": "python",
   "pygments_lexer": "ipython3",
   "version": "3.11.5"
  }
 },
 "nbformat": 4,
 "nbformat_minor": 5
}
